{
 "cells": [
  {
   "cell_type": "code",
   "execution_count": 6,
   "id": "efc09281",
   "metadata": {},
   "outputs": [
    {
     "name": "stdout",
     "output_type": "stream",
     "text": [
      "C:\\Users\\kenne\\code\\kennyrnwilson\\git\\health\\analysis\n"
     ]
    },
    {
     "data": {
      "text/html": [
       "<div>\n",
       "<style scoped>\n",
       "    .dataframe tbody tr th:only-of-type {\n",
       "        vertical-align: middle;\n",
       "    }\n",
       "\n",
       "    .dataframe tbody tr th {\n",
       "        vertical-align: top;\n",
       "    }\n",
       "\n",
       "    .dataframe thead th {\n",
       "        text-align: right;\n",
       "    }\n",
       "</style>\n",
       "<table border=\"1\" class=\"dataframe\">\n",
       "  <thead>\n",
       "    <tr style=\"text-align: right;\">\n",
       "      <th></th>\n",
       "      <th>date</th>\n",
       "      <th>weight_kg</th>\n",
       "      <th>fat_percent</th>\n",
       "      <th>waist_inch</th>\n",
       "      <th>protein_grams</th>\n",
       "      <th>fat_grams</th>\n",
       "      <th>carbs_grams</th>\n",
       "      <th>fibre_grams</th>\n",
       "      <th>water_ml</th>\n",
       "      <th>steps</th>\n",
       "      <th>sleep</th>\n",
       "      <th>caffeine_mg</th>\n",
       "    </tr>\n",
       "  </thead>\n",
       "  <tbody>\n",
       "    <tr>\n",
       "      <th>0</th>\n",
       "      <td>08/05/1932</td>\n",
       "      <td>67.8</td>\n",
       "      <td>0.142</td>\n",
       "      <td>30</td>\n",
       "      <td>160</td>\n",
       "      <td>97</td>\n",
       "      <td>277</td>\n",
       "      <td>30</td>\n",
       "      <td>3000</td>\n",
       "      <td>5951</td>\n",
       "      <td>372</td>\n",
       "      <td>415</td>\n",
       "    </tr>\n",
       "    <tr>\n",
       "      <th>1</th>\n",
       "      <td>09/05/2023</td>\n",
       "      <td>67.9</td>\n",
       "      <td>0.141</td>\n",
       "      <td>30</td>\n",
       "      <td>152</td>\n",
       "      <td>79</td>\n",
       "      <td>261</td>\n",
       "      <td>33</td>\n",
       "      <td>3000</td>\n",
       "      <td>1208</td>\n",
       "      <td>563</td>\n",
       "      <td>415</td>\n",
       "    </tr>\n",
       "  </tbody>\n",
       "</table>\n",
       "</div>"
      ],
      "text/plain": [
       "         date  weight_kg  fat_percent  waist_inch  protein_grams  fat_grams  \\\n",
       "0  08/05/1932       67.8        0.142          30            160         97   \n",
       "1  09/05/2023       67.9        0.141          30            152         79   \n",
       "\n",
       "   carbs_grams  fibre_grams  water_ml  steps  sleep  caffeine_mg  \n",
       "0          277           30      3000   5951    372          415  \n",
       "1          261           33      3000   1208    563          415  "
      ]
     },
     "execution_count": 6,
     "metadata": {},
     "output_type": "execute_result"
    }
   ],
   "source": [
    "import pandas as pd\n",
    "\n",
    "import os\n",
    "cwd = os.getcwd()\n",
    "print(cwd)\n",
    "df = pd.read_csv('..\\data\\history.csv')\n",
    "df.head()\n"
   ]
  },
  {
   "cell_type": "code",
   "execution_count": 7,
   "id": "8b2a77a0",
   "metadata": {},
   "outputs": [
    {
     "data": {
      "text/plain": [
       "<AxesSubplot:xlabel='date'>"
      ]
     },
     "execution_count": 7,
     "metadata": {},
     "output_type": "execute_result"
    },
    {
     "data": {
      "image/png": "[encoded data removed]",
      "text/plain": [
       "<Figure size 640x480 with 1 Axes>"
      ]
     },
     "metadata": {},
     "output_type": "display_data"
    }
   ],
   "source": [
    "import matplotlib as mpl\n",
    "import matplotlib.pyplot as plt\n",
    "import numpy as np\n",
    "\n",
    "df.plot(x=\"date\", y=\"weight_kg\")"
   ]
  },
  {
   "cell_type": "code",
   "execution_count": null,
   "id": "b470b123",
   "metadata": {},
   "outputs": [],
   "source": []
  },
  {
   "cell_type": "code",
   "execution_count": null,
   "id": "51ed1726",
   "metadata": {},
   "outputs": [],
   "source": []
  },
  {
   "cell_type": "code",
   "execution_count": null,
   "id": "82844d18",
   "metadata": {},
   "outputs": [],
   "source": []
  }
 ],
 "metadata": {
  "kernelspec": {
   "display_name": "Python 3 (ipykernel)",
   "language": "python",
   "name": "python3"
  },
  "language_info": {
   "codemirror_mode": {
    "name": "ipython",
    "version": 3
   },
   "file_extension": ".py",
   "mimetype": "text/x-python",
   "name": "python",
   "nbconvert_exporter": "python",
   "pygments_lexer": "ipython3",
   "version": "3.9.13"
  }
 },
 "nbformat": 4,
 "nbformat_minor": 5
}
